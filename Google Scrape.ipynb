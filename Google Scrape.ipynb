{
 "cells": [
  {
   "cell_type": "code",
   "execution_count": 1,
   "metadata": {
    "collapsed": true
   },
   "outputs": [],
   "source": [
    "%matplotlib inline\n",
    "import numpy as np\n",
    "import scipy as sp\n",
    "import matplotlib as mpl\n",
    "import matplotlib.cm as cm\n",
    "import matplotlib.pyplot as plt\n",
    "import pandas as pd\n",
    "import time\n",
    "pd.set_option('display.width', 500)\n",
    "pd.set_option('display.max_columns', 100)\n",
    "pd.set_option('display.notebook_repr_html', True)\n",
    "import seaborn as sns\n",
    "sns.set_style(\"whitegrid\")\n",
    "sns.set_context(\"poster\")\n",
    "\n",
    "# Two new \n",
    "import requests \n",
    "requests.packages.urllib3.disable_warnings()\n",
    "#Requests enables us to download raw html as text\n",
    "from bs4 import BeautifulSoup \n",
    "# BeautifulSoup enables us to navigate html in python with dom-like tree structure "
   ]
  },
  {
   "cell_type": "code",
   "execution_count": 9,
   "metadata": {},
   "outputs": [],
   "source": [
    "team_dict = {'DAL': 'mavericks', 'DEN': 'denvernuggets', 'GSW': 'warriors', 'HOU': 'rockets', 'LAC': 'LAClippers', 'LAL': 'lakers', 'MEM': 'memphisgrizzlies', 'MIN': 'timberwolves', 'NOP': 'NOLAPelicans', 'OKC': 'Thunder', 'PHX': 'suns', 'POR': 'ripcity', 'SAC': 'kings', 'SAS': 'NBASpurs', 'UTA': 'utahjazz', 'ATL': 'atlantahawks', 'BOS': 'bostonceltics', 'BKN': 'gonets', 'CHA': 'charlottehornets', 'CHI': 'chicagobulls', 'CLE': 'clevelandcavs', 'DET': 'detroitpistons', 'IND': 'pacers', 'MIA': 'heat', 'MIL': 'mkebucks', 'NYK': 'nyknicks', 'ORL': 'orlandomagic', 'PHI': 'sixers', 'TORONTO': 'torontoraptors', 'WAS': 'washingtonwizards'}"
   ]
  },
  {
   "cell_type": "code",
   "execution_count": 10,
   "metadata": {},
   "outputs": [
    {
     "data": {
      "text/plain": [
       "30"
      ]
     },
     "execution_count": 10,
     "metadata": {},
     "output_type": "execute_result"
    }
   ],
   "source": [
    "len(team_dict)"
   ]
  },
  {
   "cell_type": "code",
   "execution_count": null,
   "metadata": {
    "collapsed": true
   },
   "outputs": [],
   "source": []
  }
 ],
 "metadata": {
  "kernelspec": {
   "display_name": "Python 2",
   "language": "python",
   "name": "python2"
  },
  "language_info": {
   "codemirror_mode": {
    "name": "ipython",
    "version": 2
   },
   "file_extension": ".py",
   "mimetype": "text/x-python",
   "name": "python",
   "nbconvert_exporter": "python",
   "pygments_lexer": "ipython2",
   "version": "2.7.13"
  }
 },
 "nbformat": 4,
 "nbformat_minor": 2
}
