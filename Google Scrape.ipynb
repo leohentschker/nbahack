{
 "cells": [
  {
   "cell_type": "code",
   "execution_count": 1,
   "metadata": {},
   "outputs": [],
   "source": [
    "%matplotlib inline\n"
   ]
  },
  {
   "cell_type": "code",
   "execution_count": 2,
   "metadata": {},
   "outputs": [],
   "source": [
    "team_dict = {'DAL': 'mavericks', 'DEN': 'denvernuggets', 'GSW': 'warriors', 'HOU': 'rockets', 'LAC': 'LAClippers', 'LAL': 'lakers', 'MEM': 'memphisgrizzlies', 'MIN': 'timberwolves', 'NOP': 'NOLAPelicans', 'OKC': 'Thunder', 'PHX': 'suns', 'POR': 'ripcity', 'SAC': 'kings', 'SAS': 'NBASpurs', 'UTA': 'utahjazz', 'ATL': 'atlantahawks', 'BOS': 'bostonceltics', 'BKN': 'gonets', 'CHA': 'charlottehornets', 'CHI': 'chicagobulls', 'CLE': 'clevelandcavs', 'DET': 'detroitpistons', 'IND': 'pacers', 'MIA': 'heat', 'MIL': 'mkebucks', 'NYK': 'nyknicks', 'ORL': 'orlandomagic', 'PHI': 'sixers', 'TORONTO': 'torontoraptors', 'WAS': 'washingtonwizards'}"
   ]
  },
  {
   "cell_type": "code",
   "execution_count": 4,
   "metadata": {},
   "outputs": [],
   "source": [
    "import datetime\n",
    "from pytrends.request import TrendReq\n",
    "\n",
    "class TrendsScraper(object):\n",
    "\n",
    "    TEAM_TERMS = {\n",
    "        \"LAL\": [\"lakers\"],\n",
    "        \"OKC\": [\"Thunder\"],\n",
    "    }\n",
    "\n",
    "    def __init__(self):\n",
    "        self.client = TrendReq()\n",
    "\n",
    "    def toString(self, d):\n",
    "        return d.strftime(\"%Y-%m-%d\")\n",
    "\n",
    "    def getNumSearches(self, terms, date, endDate):\n",
    "        startString = self.toString(date)\n",
    "        endString = self.toString(endDate)\n",
    "        dates = startString + \" \" + endString\n",
    "\n",
    "        self.client.build_payload(kw_list=terms, timeframe=dates)\n",
    "        interest = self.client.interest_over_time()\n",
    "\n",
    "        total = 0\n",
    "        for _, row in interest.iterrows():\n",
    "            for term in terms:\n",
    "                total += row.get(term, 0)\n",
    "        return total\n",
    "\n",
    "    def postsForGame(self, team1, team2, startTime):\n",
    "        endDate = startTime + datetime.timedelta(days=1)\n",
    "        team1interest = self.getNumSearches(self.TEAM_TERMS[team1], startTime, endDate)\n",
    "        team2interest = self.getNumSearches(self.TEAM_TERMS[team2], startTime, endDate)\n",
    "        return team1interest + team2interest\n"
   ]
  },
  {
   "cell_type": "code",
   "execution_count": 5,
   "metadata": {},
   "outputs": [],
   "source": [
    "scraper = TrendsScraper()"
   ]
  },
  {
   "cell_type": "code",
   "execution_count": null,
   "metadata": {},
   "outputs": [],
   "source": []
  }
 ],
 "metadata": {
  "kernelspec": {
   "display_name": "Python 3",
   "language": "python",
   "name": "python3"
  },
  "language_info": {
   "codemirror_mode": {
    "name": "ipython",
    "version": 3
   },
   "file_extension": ".py",
   "mimetype": "text/x-python",
   "name": "python",
   "nbconvert_exporter": "python",
   "pygments_lexer": "ipython3",
   "version": "3.6.2"
  }
 },
 "nbformat": 4,
 "nbformat_minor": 2
}
